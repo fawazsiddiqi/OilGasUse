{
 "cells": [
  {
   "cell_type": "code",
   "execution_count": 45,
   "metadata": {
    "tags": []
   },
   "outputs": [],
   "source": [
    "import pandas as pd \n",
    "import numpy as np \n",
    "\n",
    "import seaborn as sns\n",
    "import matplotlib.pyplot as plt\n",
    "%matplotlib inline\n",
    "plt.style.use('ggplot')"
   ]
  },
  {
   "cell_type": "code",
   "execution_count": 2,
   "metadata": {},
   "outputs": [
    {
     "name": "stdout",
     "output_type": "stream",
     "text": [
      "(2795, 48)\n"
     ]
    },
    {
     "data": {
      "text/html": [
       "<div>\n",
       "<style scoped>\n",
       "    .dataframe tbody tr th:only-of-type {\n",
       "        vertical-align: middle;\n",
       "    }\n",
       "\n",
       "    .dataframe tbody tr th {\n",
       "        vertical-align: top;\n",
       "    }\n",
       "\n",
       "    .dataframe thead th {\n",
       "        text-align: right;\n",
       "    }\n",
       "</style>\n",
       "<table border=\"1\" class=\"dataframe\">\n",
       "  <thead>\n",
       "    <tr style=\"text-align: right;\">\n",
       "      <th></th>\n",
       "      <th>Report Number</th>\n",
       "      <th>Supplemental Number</th>\n",
       "      <th>Accident Year</th>\n",
       "      <th>Accident Date/Time</th>\n",
       "      <th>Operator ID</th>\n",
       "      <th>Operator Name</th>\n",
       "      <th>Pipeline/Facility Name</th>\n",
       "      <th>Pipeline Location</th>\n",
       "      <th>Pipeline Type</th>\n",
       "      <th>Liquid Type</th>\n",
       "      <th>...</th>\n",
       "      <th>Other Fatalities</th>\n",
       "      <th>Public Fatalities</th>\n",
       "      <th>All Fatalities</th>\n",
       "      <th>Property Damage Costs</th>\n",
       "      <th>Lost Commodity Costs</th>\n",
       "      <th>Public/Private Property Damage Costs</th>\n",
       "      <th>Emergency Response Costs</th>\n",
       "      <th>Environmental Remediation Costs</th>\n",
       "      <th>Other Costs</th>\n",
       "      <th>All Costs</th>\n",
       "    </tr>\n",
       "  </thead>\n",
       "  <tbody>\n",
       "    <tr>\n",
       "      <th>0</th>\n",
       "      <td>20100016</td>\n",
       "      <td>17305</td>\n",
       "      <td>2010</td>\n",
       "      <td>1/1/2010 7:15 AM</td>\n",
       "      <td>32109</td>\n",
       "      <td>ONEOK NGL PIPELINE LP</td>\n",
       "      <td>KINDER MORGAN JCT</td>\n",
       "      <td>ONSHORE</td>\n",
       "      <td>ABOVEGROUND</td>\n",
       "      <td>HVL OR OTHER FLAMMABLE OR TOXIC FLUID, GAS</td>\n",
       "      <td>...</td>\n",
       "      <td>NaN</td>\n",
       "      <td>NaN</td>\n",
       "      <td>NaN</td>\n",
       "      <td>110.0</td>\n",
       "      <td>1517.0</td>\n",
       "      <td>0.0</td>\n",
       "      <td>0.0</td>\n",
       "      <td>0.0</td>\n",
       "      <td>0.0</td>\n",
       "      <td>1627</td>\n",
       "    </tr>\n",
       "    <tr>\n",
       "      <th>1</th>\n",
       "      <td>20100254</td>\n",
       "      <td>17331</td>\n",
       "      <td>2010</td>\n",
       "      <td>1/4/2010 8:30 AM</td>\n",
       "      <td>15786</td>\n",
       "      <td>PORTLAND PIPELINE CORP</td>\n",
       "      <td>24-INCH MAIN LINE</td>\n",
       "      <td>ONSHORE</td>\n",
       "      <td>ABOVEGROUND</td>\n",
       "      <td>CRUDE OIL</td>\n",
       "      <td>...</td>\n",
       "      <td>NaN</td>\n",
       "      <td>NaN</td>\n",
       "      <td>NaN</td>\n",
       "      <td>4000.0</td>\n",
       "      <td>8.0</td>\n",
       "      <td>0.0</td>\n",
       "      <td>0.0</td>\n",
       "      <td>0.0</td>\n",
       "      <td>0.0</td>\n",
       "      <td>4008</td>\n",
       "    </tr>\n",
       "    <tr>\n",
       "      <th>2</th>\n",
       "      <td>20100038</td>\n",
       "      <td>17747</td>\n",
       "      <td>2010</td>\n",
       "      <td>1/5/2010 10:30 AM</td>\n",
       "      <td>20160</td>\n",
       "      <td>PETROLOGISTICS OLEFINS, LLC</td>\n",
       "      <td>NaN</td>\n",
       "      <td>ONSHORE</td>\n",
       "      <td>ABOVEGROUND</td>\n",
       "      <td>HVL OR OTHER FLAMMABLE OR TOXIC FLUID, GAS</td>\n",
       "      <td>...</td>\n",
       "      <td>NaN</td>\n",
       "      <td>NaN</td>\n",
       "      <td>NaN</td>\n",
       "      <td>0.0</td>\n",
       "      <td>200.0</td>\n",
       "      <td>0.0</td>\n",
       "      <td>0.0</td>\n",
       "      <td>0.0</td>\n",
       "      <td>0.0</td>\n",
       "      <td>200</td>\n",
       "    </tr>\n",
       "    <tr>\n",
       "      <th>3</th>\n",
       "      <td>20100260</td>\n",
       "      <td>18574</td>\n",
       "      <td>2010</td>\n",
       "      <td>1/6/2010 7:30 PM</td>\n",
       "      <td>11169</td>\n",
       "      <td>ENBRIDGE ENERGY, LIMITED PARTNERSHIP</td>\n",
       "      <td>SUPERIOR TERMINAL</td>\n",
       "      <td>ONSHORE</td>\n",
       "      <td>UNDERGROUND</td>\n",
       "      <td>CRUDE OIL</td>\n",
       "      <td>...</td>\n",
       "      <td>NaN</td>\n",
       "      <td>NaN</td>\n",
       "      <td>NaN</td>\n",
       "      <td>200.0</td>\n",
       "      <td>40.0</td>\n",
       "      <td>0.0</td>\n",
       "      <td>11300.0</td>\n",
       "      <td>0.0</td>\n",
       "      <td>0.0</td>\n",
       "      <td>11540</td>\n",
       "    </tr>\n",
       "    <tr>\n",
       "      <th>4</th>\n",
       "      <td>20100030</td>\n",
       "      <td>16276</td>\n",
       "      <td>2010</td>\n",
       "      <td>1/7/2010 1:00 PM</td>\n",
       "      <td>300</td>\n",
       "      <td>PLAINS PIPELINE, L.P.</td>\n",
       "      <td>RED RIVER EAST</td>\n",
       "      <td>ONSHORE</td>\n",
       "      <td>UNDERGROUND</td>\n",
       "      <td>CRUDE OIL</td>\n",
       "      <td>...</td>\n",
       "      <td>NaN</td>\n",
       "      <td>NaN</td>\n",
       "      <td>NaN</td>\n",
       "      <td>20000.0</td>\n",
       "      <td>150.0</td>\n",
       "      <td>0.0</td>\n",
       "      <td>7500.0</td>\n",
       "      <td>2000.0</td>\n",
       "      <td>0.0</td>\n",
       "      <td>29650</td>\n",
       "    </tr>\n",
       "  </tbody>\n",
       "</table>\n",
       "<p>5 rows × 48 columns</p>\n",
       "</div>"
      ],
      "text/plain": [
       "   Report Number  Supplemental Number  Accident Year Accident Date/Time  \\\n",
       "0       20100016                17305           2010   1/1/2010 7:15 AM   \n",
       "1       20100254                17331           2010   1/4/2010 8:30 AM   \n",
       "2       20100038                17747           2010  1/5/2010 10:30 AM   \n",
       "3       20100260                18574           2010   1/6/2010 7:30 PM   \n",
       "4       20100030                16276           2010   1/7/2010 1:00 PM   \n",
       "\n",
       "   Operator ID                         Operator Name Pipeline/Facility Name  \\\n",
       "0        32109                 ONEOK NGL PIPELINE LP      KINDER MORGAN JCT   \n",
       "1        15786                PORTLAND PIPELINE CORP      24-INCH MAIN LINE   \n",
       "2        20160           PETROLOGISTICS OLEFINS, LLC                    NaN   \n",
       "3        11169  ENBRIDGE ENERGY, LIMITED PARTNERSHIP      SUPERIOR TERMINAL   \n",
       "4          300                 PLAINS PIPELINE, L.P.         RED RIVER EAST   \n",
       "\n",
       "  Pipeline Location Pipeline Type                                 Liquid Type  \\\n",
       "0           ONSHORE   ABOVEGROUND  HVL OR OTHER FLAMMABLE OR TOXIC FLUID, GAS   \n",
       "1           ONSHORE   ABOVEGROUND                                   CRUDE OIL   \n",
       "2           ONSHORE   ABOVEGROUND  HVL OR OTHER FLAMMABLE OR TOXIC FLUID, GAS   \n",
       "3           ONSHORE   UNDERGROUND                                   CRUDE OIL   \n",
       "4           ONSHORE   UNDERGROUND                                   CRUDE OIL   \n",
       "\n",
       "   ... Other Fatalities Public Fatalities All Fatalities  \\\n",
       "0  ...              NaN               NaN            NaN   \n",
       "1  ...              NaN               NaN            NaN   \n",
       "2  ...              NaN               NaN            NaN   \n",
       "3  ...              NaN               NaN            NaN   \n",
       "4  ...              NaN               NaN            NaN   \n",
       "\n",
       "  Property Damage Costs Lost Commodity Costs  \\\n",
       "0                 110.0               1517.0   \n",
       "1                4000.0                  8.0   \n",
       "2                   0.0                200.0   \n",
       "3                 200.0                 40.0   \n",
       "4               20000.0                150.0   \n",
       "\n",
       "   Public/Private Property Damage Costs  Emergency Response Costs  \\\n",
       "0                                   0.0                       0.0   \n",
       "1                                   0.0                       0.0   \n",
       "2                                   0.0                       0.0   \n",
       "3                                   0.0                   11300.0   \n",
       "4                                   0.0                    7500.0   \n",
       "\n",
       "  Environmental Remediation Costs Other Costs  All Costs  \n",
       "0                             0.0         0.0       1627  \n",
       "1                             0.0         0.0       4008  \n",
       "2                             0.0         0.0        200  \n",
       "3                             0.0         0.0      11540  \n",
       "4                          2000.0         0.0      29650  \n",
       "\n",
       "[5 rows x 48 columns]"
      ]
     },
     "execution_count": 2,
     "metadata": {},
     "output_type": "execute_result"
    }
   ],
   "source": [
    "df = pd.read_csv('data.csv')\n",
    "print(df.shape)\n",
    "df.head()"
   ]
  },
  {
   "cell_type": "code",
   "execution_count": 3,
   "metadata": {},
   "outputs": [
    {
     "name": "stdout",
     "output_type": "stream",
     "text": [
      "<class 'pandas.core.frame.DataFrame'>\n",
      "RangeIndex: 2795 entries, 0 to 2794\n",
      "Data columns (total 48 columns):\n",
      " #   Column                                Non-Null Count  Dtype  \n",
      "---  ------                                --------------  -----  \n",
      " 0   Report Number                         2795 non-null   int64  \n",
      " 1   Supplemental Number                   2795 non-null   int64  \n",
      " 2   Accident Year                         2795 non-null   int64  \n",
      " 3   Accident Date/Time                    2795 non-null   object \n",
      " 4   Operator ID                           2795 non-null   int64  \n",
      " 5   Operator Name                         2795 non-null   object \n",
      " 6   Pipeline/Facility Name                2674 non-null   object \n",
      " 7   Pipeline Location                     2795 non-null   object \n",
      " 8   Pipeline Type                         2777 non-null   object \n",
      " 9   Liquid Type                           2795 non-null   object \n",
      " 10  Liquid Subtype                        1349 non-null   object \n",
      " 11  Liquid Name                           222 non-null    object \n",
      " 12  Accident City                         2480 non-null   object \n",
      " 13  Accident County                       2720 non-null   object \n",
      " 14  Accident State                        2783 non-null   object \n",
      " 15  Accident Latitude                     2795 non-null   float64\n",
      " 16  Accident Longitude                    2795 non-null   float64\n",
      " 17  Cause Category                        2795 non-null   object \n",
      " 18  Cause Subcategory                     2795 non-null   object \n",
      " 19  Unintentional Release (Barrels)       2795 non-null   float64\n",
      " 20  Intentional Release (Barrels)         1209 non-null   float64\n",
      " 21  Liquid Recovery (Barrels)             2795 non-null   float64\n",
      " 22  Net Loss (Barrels)                    2795 non-null   float64\n",
      " 23  Liquid Ignition                       2795 non-null   object \n",
      " 24  Liquid Explosion                      2795 non-null   object \n",
      " 25  Pipeline Shutdown                     2583 non-null   object \n",
      " 26  Shutdown Date/Time                    1390 non-null   object \n",
      " 27  Restart Date/Time                     1341 non-null   object \n",
      " 28  Public Evacuations                    2338 non-null   float64\n",
      " 29  Operator Employee Injuries            12 non-null     float64\n",
      " 30  Operator Contractor Injuries          12 non-null     float64\n",
      " 31  Emergency Responder Injuries          12 non-null     float64\n",
      " 32  Other Injuries                        12 non-null     float64\n",
      " 33  Public Injuries                       12 non-null     float64\n",
      " 34  All Injuries                          12 non-null     float64\n",
      " 35  Operator Employee Fatalities          8 non-null      float64\n",
      " 36  Operator Contractor Fatalities        8 non-null      float64\n",
      " 37  Emergency Responder Fatalities        8 non-null      float64\n",
      " 38  Other Fatalities                      8 non-null      float64\n",
      " 39  Public Fatalities                     8 non-null      float64\n",
      " 40  All Fatalities                        8 non-null      float64\n",
      " 41  Property Damage Costs                 2788 non-null   float64\n",
      " 42  Lost Commodity Costs                  2791 non-null   float64\n",
      " 43  Public/Private Property Damage Costs  2785 non-null   float64\n",
      " 44  Emergency Response Costs              2789 non-null   float64\n",
      " 45  Environmental Remediation Costs       2787 non-null   float64\n",
      " 46  Other Costs                           2779 non-null   float64\n",
      " 47  All Costs                             2795 non-null   int64  \n",
      "dtypes: float64(25), int64(5), object(18)\n",
      "memory usage: 1.0+ MB\n"
     ]
    }
   ],
   "source": [
    "df.info()"
   ]
  },
  {
   "cell_type": "code",
   "execution_count": 4,
   "metadata": {},
   "outputs": [
    {
     "data": {
      "text/plain": [
       "Report Number                              0\n",
       "Supplemental Number                        0\n",
       "Accident Year                              0\n",
       "Accident Date/Time                         0\n",
       "Operator ID                                0\n",
       "Operator Name                              0\n",
       "Pipeline/Facility Name                   121\n",
       "Pipeline Location                          0\n",
       "Pipeline Type                             18\n",
       "Liquid Type                                0\n",
       "Liquid Subtype                          1446\n",
       "Liquid Name                             2573\n",
       "Accident City                            315\n",
       "Accident County                           75\n",
       "Accident State                            12\n",
       "Accident Latitude                          0\n",
       "Accident Longitude                         0\n",
       "Cause Category                             0\n",
       "Cause Subcategory                          0\n",
       "Unintentional Release (Barrels)            0\n",
       "Intentional Release (Barrels)           1586\n",
       "Liquid Recovery (Barrels)                  0\n",
       "Net Loss (Barrels)                         0\n",
       "Liquid Ignition                            0\n",
       "Liquid Explosion                           0\n",
       "Pipeline Shutdown                        212\n",
       "Shutdown Date/Time                      1405\n",
       "Restart Date/Time                       1454\n",
       "Public Evacuations                       457\n",
       "Operator Employee Injuries              2783\n",
       "Operator Contractor Injuries            2783\n",
       "Emergency Responder Injuries            2783\n",
       "Other Injuries                          2783\n",
       "Public Injuries                         2783\n",
       "All Injuries                            2783\n",
       "Operator Employee Fatalities            2787\n",
       "Operator Contractor Fatalities          2787\n",
       "Emergency Responder Fatalities          2787\n",
       "Other Fatalities                        2787\n",
       "Public Fatalities                       2787\n",
       "All Fatalities                          2787\n",
       "Property Damage Costs                      7\n",
       "Lost Commodity Costs                       4\n",
       "Public/Private Property Damage Costs      10\n",
       "Emergency Response Costs                   6\n",
       "Environmental Remediation Costs            8\n",
       "Other Costs                               16\n",
       "All Costs                                  0\n",
       "dtype: int64"
      ]
     },
     "execution_count": 4,
     "metadata": {},
     "output_type": "execute_result"
    }
   ],
   "source": [
    "df.isnull().sum()"
   ]
  },
  {
   "cell_type": "code",
   "execution_count": 5,
   "metadata": {},
   "outputs": [
    {
     "data": {
      "text/plain": [
       "True"
      ]
     },
     "execution_count": 5,
     "metadata": {},
     "output_type": "execute_result"
    }
   ],
   "source": [
    "# Check for duplicates\n",
    "sum(df['Report Number'].value_counts().values) == len(df)"
   ]
  },
  {
   "cell_type": "code",
   "execution_count": 6,
   "metadata": {},
   "outputs": [
    {
     "name": "stdout",
     "output_type": "stream",
     "text": [
      "2236.0\n",
      "(2795, 48)\n",
      "(2795, 31)\n"
     ]
    }
   ],
   "source": [
    "# Remove Columns of more than 80% null values\n",
    "\n",
    "# setting up the thredhold. We want at least 80% of our data to be non-null \n",
    "threshold = len(df)*0.80\n",
    "print(threshold)\n",
    "\n",
    "print(df.shape)\n",
    "mine = df.dropna(thresh=threshold, axis=1, inplace=True)\n",
    "print(df.shape)"
   ]
  },
  {
   "cell_type": "code",
   "execution_count": 8,
   "metadata": {},
   "outputs": [
    {
     "data": {
      "text/html": [
       "<div>\n",
       "<style scoped>\n",
       "    .dataframe tbody tr th:only-of-type {\n",
       "        vertical-align: middle;\n",
       "    }\n",
       "\n",
       "    .dataframe tbody tr th {\n",
       "        vertical-align: top;\n",
       "    }\n",
       "\n",
       "    .dataframe thead th {\n",
       "        text-align: right;\n",
       "    }\n",
       "</style>\n",
       "<table border=\"1\" class=\"dataframe\">\n",
       "  <thead>\n",
       "    <tr style=\"text-align: right;\">\n",
       "      <th></th>\n",
       "      <th>Accident Year</th>\n",
       "      <th>Accident Date/Time</th>\n",
       "      <th>Operator ID</th>\n",
       "      <th>Operator Name</th>\n",
       "      <th>Pipeline Location</th>\n",
       "      <th>Pipeline Type</th>\n",
       "      <th>Liquid Type</th>\n",
       "      <th>Accident City</th>\n",
       "      <th>Accident County</th>\n",
       "      <th>Accident State</th>\n",
       "      <th>...</th>\n",
       "      <th>Accident Longitude</th>\n",
       "      <th>Cause Category</th>\n",
       "      <th>Cause Subcategory</th>\n",
       "      <th>Unintentional Release (Barrels)</th>\n",
       "      <th>Liquid Recovery (Barrels)</th>\n",
       "      <th>Net Loss (Barrels)</th>\n",
       "      <th>Liquid Ignition</th>\n",
       "      <th>Liquid Explosion</th>\n",
       "      <th>Pipeline Shutdown</th>\n",
       "      <th>All Costs</th>\n",
       "    </tr>\n",
       "  </thead>\n",
       "  <tbody>\n",
       "    <tr>\n",
       "      <th>0</th>\n",
       "      <td>2010</td>\n",
       "      <td>1/1/2010 7:15 AM</td>\n",
       "      <td>32109</td>\n",
       "      <td>ONEOK NGL PIPELINE LP</td>\n",
       "      <td>ONSHORE</td>\n",
       "      <td>ABOVEGROUND</td>\n",
       "      <td>HVL OR OTHER FLAMMABLE OR TOXIC FLUID, GAS</td>\n",
       "      <td>MCPHERSON</td>\n",
       "      <td>MCPHERSON</td>\n",
       "      <td>KS</td>\n",
       "      <td>...</td>\n",
       "      <td>-97.78123</td>\n",
       "      <td>INCORRECT OPERATION</td>\n",
       "      <td>PIPELINE/EQUIPMENT OVERPRESSURED</td>\n",
       "      <td>21.00</td>\n",
       "      <td>0.00</td>\n",
       "      <td>21.0</td>\n",
       "      <td>NO</td>\n",
       "      <td>NO</td>\n",
       "      <td>NO</td>\n",
       "      <td>1627</td>\n",
       "    </tr>\n",
       "    <tr>\n",
       "      <th>1</th>\n",
       "      <td>2010</td>\n",
       "      <td>1/4/2010 8:30 AM</td>\n",
       "      <td>15786</td>\n",
       "      <td>PORTLAND PIPELINE CORP</td>\n",
       "      <td>ONSHORE</td>\n",
       "      <td>ABOVEGROUND</td>\n",
       "      <td>CRUDE OIL</td>\n",
       "      <td>RAYMOND</td>\n",
       "      <td>CUMBERLAND</td>\n",
       "      <td>ME</td>\n",
       "      <td>...</td>\n",
       "      <td>-70.49336</td>\n",
       "      <td>MATERIAL/WELD/EQUIP FAILURE</td>\n",
       "      <td>PUMP OR PUMP-RELATED EQUIPMENT</td>\n",
       "      <td>0.12</td>\n",
       "      <td>0.12</td>\n",
       "      <td>0.0</td>\n",
       "      <td>NO</td>\n",
       "      <td>NO</td>\n",
       "      <td>NaN</td>\n",
       "      <td>4008</td>\n",
       "    </tr>\n",
       "    <tr>\n",
       "      <th>2</th>\n",
       "      <td>2010</td>\n",
       "      <td>1/5/2010 10:30 AM</td>\n",
       "      <td>20160</td>\n",
       "      <td>PETROLOGISTICS OLEFINS, LLC</td>\n",
       "      <td>ONSHORE</td>\n",
       "      <td>ABOVEGROUND</td>\n",
       "      <td>HVL OR OTHER FLAMMABLE OR TOXIC FLUID, GAS</td>\n",
       "      <td>SULPHER</td>\n",
       "      <td>CALCASIEU</td>\n",
       "      <td>LA</td>\n",
       "      <td>...</td>\n",
       "      <td>-93.35240</td>\n",
       "      <td>MATERIAL/WELD/EQUIP FAILURE</td>\n",
       "      <td>DEFECTIVE OR LOOSE TUBING/FITTING</td>\n",
       "      <td>2.00</td>\n",
       "      <td>0.00</td>\n",
       "      <td>2.0</td>\n",
       "      <td>NO</td>\n",
       "      <td>NO</td>\n",
       "      <td>NaN</td>\n",
       "      <td>200</td>\n",
       "    </tr>\n",
       "    <tr>\n",
       "      <th>3</th>\n",
       "      <td>2010</td>\n",
       "      <td>1/6/2010 7:30 PM</td>\n",
       "      <td>11169</td>\n",
       "      <td>ENBRIDGE ENERGY, LIMITED PARTNERSHIP</td>\n",
       "      <td>ONSHORE</td>\n",
       "      <td>UNDERGROUND</td>\n",
       "      <td>CRUDE OIL</td>\n",
       "      <td>SUPERIOR</td>\n",
       "      <td>DOUGLAS</td>\n",
       "      <td>WI</td>\n",
       "      <td>...</td>\n",
       "      <td>-92.06120</td>\n",
       "      <td>NATURAL FORCE DAMAGE</td>\n",
       "      <td>TEMPERATURE</td>\n",
       "      <td>0.48</td>\n",
       "      <td>0.48</td>\n",
       "      <td>0.0</td>\n",
       "      <td>NO</td>\n",
       "      <td>NO</td>\n",
       "      <td>NaN</td>\n",
       "      <td>11540</td>\n",
       "    </tr>\n",
       "    <tr>\n",
       "      <th>4</th>\n",
       "      <td>2010</td>\n",
       "      <td>1/7/2010 1:00 PM</td>\n",
       "      <td>300</td>\n",
       "      <td>PLAINS PIPELINE, L.P.</td>\n",
       "      <td>ONSHORE</td>\n",
       "      <td>UNDERGROUND</td>\n",
       "      <td>CRUDE OIL</td>\n",
       "      <td>SHERMAN</td>\n",
       "      <td>GRAYSON</td>\n",
       "      <td>TX</td>\n",
       "      <td>...</td>\n",
       "      <td>-96.64881</td>\n",
       "      <td>EXCAVATION DAMAGE</td>\n",
       "      <td>THIRD PARTY EXCAVATION DAMAGE</td>\n",
       "      <td>700.00</td>\n",
       "      <td>698.00</td>\n",
       "      <td>2.0</td>\n",
       "      <td>NO</td>\n",
       "      <td>NO</td>\n",
       "      <td>NO</td>\n",
       "      <td>29650</td>\n",
       "    </tr>\n",
       "  </tbody>\n",
       "</table>\n",
       "<p>5 rows × 21 columns</p>\n",
       "</div>"
      ],
      "text/plain": [
       "   Accident Year Accident Date/Time  Operator ID  \\\n",
       "0           2010   1/1/2010 7:15 AM        32109   \n",
       "1           2010   1/4/2010 8:30 AM        15786   \n",
       "2           2010  1/5/2010 10:30 AM        20160   \n",
       "3           2010   1/6/2010 7:30 PM        11169   \n",
       "4           2010   1/7/2010 1:00 PM          300   \n",
       "\n",
       "                          Operator Name Pipeline Location Pipeline Type  \\\n",
       "0                 ONEOK NGL PIPELINE LP           ONSHORE   ABOVEGROUND   \n",
       "1                PORTLAND PIPELINE CORP           ONSHORE   ABOVEGROUND   \n",
       "2           PETROLOGISTICS OLEFINS, LLC           ONSHORE   ABOVEGROUND   \n",
       "3  ENBRIDGE ENERGY, LIMITED PARTNERSHIP           ONSHORE   UNDERGROUND   \n",
       "4                 PLAINS PIPELINE, L.P.           ONSHORE   UNDERGROUND   \n",
       "\n",
       "                                  Liquid Type Accident City Accident County  \\\n",
       "0  HVL OR OTHER FLAMMABLE OR TOXIC FLUID, GAS     MCPHERSON       MCPHERSON   \n",
       "1                                   CRUDE OIL       RAYMOND      CUMBERLAND   \n",
       "2  HVL OR OTHER FLAMMABLE OR TOXIC FLUID, GAS       SULPHER       CALCASIEU   \n",
       "3                                   CRUDE OIL      SUPERIOR         DOUGLAS   \n",
       "4                                   CRUDE OIL       SHERMAN         GRAYSON   \n",
       "\n",
       "  Accident State  ...  Accident Longitude               Cause Category  \\\n",
       "0             KS  ...           -97.78123          INCORRECT OPERATION   \n",
       "1             ME  ...           -70.49336  MATERIAL/WELD/EQUIP FAILURE   \n",
       "2             LA  ...           -93.35240  MATERIAL/WELD/EQUIP FAILURE   \n",
       "3             WI  ...           -92.06120         NATURAL FORCE DAMAGE   \n",
       "4             TX  ...           -96.64881            EXCAVATION DAMAGE   \n",
       "\n",
       "                   Cause Subcategory Unintentional Release (Barrels)  \\\n",
       "0   PIPELINE/EQUIPMENT OVERPRESSURED                           21.00   \n",
       "1     PUMP OR PUMP-RELATED EQUIPMENT                            0.12   \n",
       "2  DEFECTIVE OR LOOSE TUBING/FITTING                            2.00   \n",
       "3                        TEMPERATURE                            0.48   \n",
       "4      THIRD PARTY EXCAVATION DAMAGE                          700.00   \n",
       "\n",
       "   Liquid Recovery (Barrels)  Net Loss (Barrels)  Liquid Ignition  \\\n",
       "0                       0.00                21.0               NO   \n",
       "1                       0.12                 0.0               NO   \n",
       "2                       0.00                 2.0               NO   \n",
       "3                       0.48                 0.0               NO   \n",
       "4                     698.00                 2.0               NO   \n",
       "\n",
       "  Liquid Explosion Pipeline Shutdown All Costs  \n",
       "0               NO                NO      1627  \n",
       "1               NO               NaN      4008  \n",
       "2               NO               NaN       200  \n",
       "3               NO               NaN     11540  \n",
       "4               NO                NO     29650  \n",
       "\n",
       "[5 rows x 21 columns]"
      ]
     },
     "execution_count": 8,
     "metadata": {},
     "output_type": "execute_result"
    }
   ],
   "source": [
    "# removing useless columns for the analysis\n",
    "df.drop(columns=['Report Number','Supplemental Number','Public Evacuations', 'Pipeline/Facility Name',\n",
    "   'Property Damage Costs','Lost Commodity Costs','Public/Private Property Damage Costs',\n",
    "   'Emergency Response Costs','Environmental Remediation Costs','Other Costs'], inplace=True)\n",
    "\n",
    "# I am keeping these columns ('Accident Date/Time','Shutdown Date/Time','Restart Date/Time') \n",
    "# because I am curious if the cost is related to how long the plan/rig was shutdown \n",
    "# but turned out they were removed becuase they are mostly null :( \n",
    "\n",
    "df.head()"
   ]
  },
  {
   "cell_type": "code",
   "execution_count": 9,
   "metadata": {
    "scrolled": false
   },
   "outputs": [
    {
     "data": {
      "text/plain": [
       "Accident Year                        0\n",
       "Accident Date/Time                   0\n",
       "Operator ID                          0\n",
       "Operator Name                        0\n",
       "Pipeline Location                    0\n",
       "Pipeline Type                       18\n",
       "Liquid Type                          0\n",
       "Accident City                      315\n",
       "Accident County                     75\n",
       "Accident State                      12\n",
       "Accident Latitude                    0\n",
       "Accident Longitude                   0\n",
       "Cause Category                       0\n",
       "Cause Subcategory                    0\n",
       "Unintentional Release (Barrels)      0\n",
       "Liquid Recovery (Barrels)            0\n",
       "Net Loss (Barrels)                   0\n",
       "Liquid Ignition                      0\n",
       "Liquid Explosion                     0\n",
       "Pipeline Shutdown                  212\n",
       "All Costs                            0\n",
       "dtype: int64"
      ]
     },
     "execution_count": 9,
     "metadata": {},
     "output_type": "execute_result"
    }
   ],
   "source": [
    "df.isnull().sum()"
   ]
  },
  {
   "cell_type": "markdown",
   "metadata": {},
   "source": [
    "## Handle Missing Values"
   ]
  },
  {
   "cell_type": "code",
   "execution_count": 11,
   "metadata": {},
   "outputs": [],
   "source": [
    "# 1) would be interested to see if the rows with missing 'Accident State' have values in 'Accident City' and 'Accident County'\n",
    "# 2) would be intereste to see if shutting down in 'Pipeline Shutdown' is correlated to the cost \n",
    "# 3) \n"
   ]
  },
  {
   "cell_type": "code",
   "execution_count": 43,
   "metadata": {},
   "outputs": [
    {
     "data": {
      "image/png": "[encoded data removed]",
      "text/plain": [
       "<Figure size 432x288 with 1 Axes>"
      ]
     },
     "metadata": {},
     "output_type": "display_data"
    }
   ],
   "source": [
    "# Looking at 'Pipeline Shutdown' vs. 'All Costs'\n",
    "plt.scatter(df['Pipeline Shutdown'].astype(str), df['All Costs'])\n",
    "plt.show()"
   ]
  },
  {
   "cell_type": "code",
   "execution_count": 54,
   "metadata": {},
   "outputs": [
    {
     "data": {
      "text/plain": [
       "<AxesSubplot:xlabel='Pipeline Shutdown', ylabel='All Costs'>"
      ]
     },
     "execution_count": 54,
     "metadata": {},
     "output_type": "execute_result"
    },
    {
     "data": {
      "image/png": "[encoded data removed]",
      "text/plain": [
       "<Figure size 432x288 with 1 Axes>"
      ]
     },
     "metadata": {},
     "output_type": "display_data"
    }
   ],
   "source": [
    "sns.boxplot(x='Pipeline Shutdown', y='All Costs', data=df)"
   ]
  },
  {
   "cell_type": "code",
   "execution_count": 51,
   "metadata": {},
   "outputs": [
    {
     "data": {
      "text/plain": [
       "<AxesSubplot:>"
      ]
     },
     "execution_count": 51,
     "metadata": {},
     "output_type": "execute_result"
    },
    {
     "data": {
      "image/png": "[encoded data removed]",
      "text/plain": [
       "<Figure size 432x288 with 1 Axes>"
      ]
     },
     "metadata": {},
     "output_type": "display_data"
    }
   ],
   "source": [
    "df['All Costs'].plot()"
   ]
  },
  {
   "cell_type": "code",
   "execution_count": 60,
   "metadata": {},
   "outputs": [
    {
     "data": {
      "text/html": [
       "<div>\n",
       "<style scoped>\n",
       "    .dataframe tbody tr th:only-of-type {\n",
       "        vertical-align: middle;\n",
       "    }\n",
       "\n",
       "    .dataframe tbody tr th {\n",
       "        vertical-align: top;\n",
       "    }\n",
       "\n",
       "    .dataframe thead th {\n",
       "        text-align: right;\n",
       "    }\n",
       "</style>\n",
       "<table border=\"1\" class=\"dataframe\">\n",
       "  <thead>\n",
       "    <tr style=\"text-align: right;\">\n",
       "      <th></th>\n",
       "      <th>Accident Year</th>\n",
       "      <th>Accident Date/Time</th>\n",
       "      <th>Operator ID</th>\n",
       "      <th>Operator Name</th>\n",
       "      <th>Pipeline Location</th>\n",
       "      <th>Pipeline Type</th>\n",
       "      <th>Liquid Type</th>\n",
       "      <th>Accident City</th>\n",
       "      <th>Accident County</th>\n",
       "      <th>Accident State</th>\n",
       "      <th>...</th>\n",
       "      <th>Accident Longitude</th>\n",
       "      <th>Cause Category</th>\n",
       "      <th>Cause Subcategory</th>\n",
       "      <th>Unintentional Release (Barrels)</th>\n",
       "      <th>Liquid Recovery (Barrels)</th>\n",
       "      <th>Net Loss (Barrels)</th>\n",
       "      <th>Liquid Ignition</th>\n",
       "      <th>Liquid Explosion</th>\n",
       "      <th>Pipeline Shutdown</th>\n",
       "      <th>All Costs</th>\n",
       "    </tr>\n",
       "  </thead>\n",
       "  <tbody>\n",
       "    <tr>\n",
       "      <th>194</th>\n",
       "      <td>2010</td>\n",
       "      <td>7/25/2010 5:58 PM</td>\n",
       "      <td>11169</td>\n",
       "      <td>ENBRIDGE ENERGY, LIMITED PARTNERSHIP</td>\n",
       "      <td>ONSHORE</td>\n",
       "      <td>UNDERGROUND</td>\n",
       "      <td>CRUDE OIL</td>\n",
       "      <td>MARSHALL</td>\n",
       "      <td>CALHOUN</td>\n",
       "      <td>MI</td>\n",
       "      <td>...</td>\n",
       "      <td>-84.97251</td>\n",
       "      <td>MATERIAL/WELD/EQUIP FAILURE</td>\n",
       "      <td>ENVIRONMENTAL CRACKING-RELATED</td>\n",
       "      <td>20082.0</td>\n",
       "      <td>18245.0</td>\n",
       "      <td>1837.0</td>\n",
       "      <td>NO</td>\n",
       "      <td>NO</td>\n",
       "      <td>YES</td>\n",
       "      <td>840526118</td>\n",
       "    </tr>\n",
       "  </tbody>\n",
       "</table>\n",
       "<p>1 rows × 21 columns</p>\n",
       "</div>"
      ],
      "text/plain": [
       "     Accident Year Accident Date/Time  Operator ID  \\\n",
       "194           2010  7/25/2010 5:58 PM        11169   \n",
       "\n",
       "                            Operator Name Pipeline Location Pipeline Type  \\\n",
       "194  ENBRIDGE ENERGY, LIMITED PARTNERSHIP           ONSHORE   UNDERGROUND   \n",
       "\n",
       "    Liquid Type Accident City Accident County Accident State  ...  \\\n",
       "194   CRUDE OIL      MARSHALL         CALHOUN             MI  ...   \n",
       "\n",
       "     Accident Longitude               Cause Category  \\\n",
       "194           -84.97251  MATERIAL/WELD/EQUIP FAILURE   \n",
       "\n",
       "                  Cause Subcategory Unintentional Release (Barrels)  \\\n",
       "194  ENVIRONMENTAL CRACKING-RELATED                         20082.0   \n",
       "\n",
       "     Liquid Recovery (Barrels)  Net Loss (Barrels)  Liquid Ignition  \\\n",
       "194                    18245.0              1837.0               NO   \n",
       "\n",
       "    Liquid Explosion Pipeline Shutdown  All Costs  \n",
       "194               NO               YES  840526118  \n",
       "\n",
       "[1 rows x 21 columns]"
      ]
     },
     "execution_count": 60,
     "metadata": {},
     "output_type": "execute_result"
    }
   ],
   "source": [
    "df[df['All Costs']>500000000]"
   ]
  },
  {
   "cell_type": "code",
   "execution_count": 65,
   "metadata": {},
   "outputs": [],
   "source": [
    "df.drop([194], inplace=True)"
   ]
  },
  {
   "cell_type": "code",
   "execution_count": 66,
   "metadata": {},
   "outputs": [
    {
     "data": {
      "image/png": "[encoded data removed]",
      "text/plain": [
       "<Figure size 432x288 with 1 Axes>"
      ]
     },
     "metadata": {},
     "output_type": "display_data"
    }
   ],
   "source": [
    "plt.scatter(df['Pipeline Shutdown'].astype(str), df['All Costs'])\n",
    "plt.show()"
   ]
  },
  {
   "cell_type": "code",
   "execution_count": 67,
   "metadata": {},
   "outputs": [
    {
     "data": {
      "text/plain": [
       "<AxesSubplot:xlabel='Pipeline Shutdown', ylabel='All Costs'>"
      ]
     },
     "execution_count": 67,
     "metadata": {},
     "output_type": "execute_result"
    },
    {
     "data": {
      "image/png": "[encoded data removed]",
      "text/plain": [
       "<Figure size 432x288 with 1 Axes>"
      ]
     },
     "metadata": {},
     "output_type": "display_data"
    }
   ],
   "source": [
    "sns.boxplot(x='Pipeline Shutdown', y='All Costs', data=df)"
   ]
  },
  {
   "cell_type": "code",
   "execution_count": null,
   "metadata": {},
   "outputs": [
    {
     "data": {
      "text/plain": [
       "<AxesSubplot:>"
      ]
     },
     "execution_count": 70,
     "metadata": {},
     "output_type": "execute_result"
    }
   ],
   "source": [
    "df['Operator ID'].plot(kind='bar')"
   ]
  }
 ],
 "metadata": {
  "kernelspec": {
   "display_name": "Python 3",
   "language": "python",
   "name": "python3"
  },
  "language_info": {
   "codemirror_mode": {
    "name": "ipython",
    "version": 3
   },
   "file_extension": ".py",
   "mimetype": "text/x-python",
   "name": "python",
   "nbconvert_exporter": "python",
   "pygments_lexer": "ipython3",
   "version": "3.7.7"
  }
 },
 "nbformat": 4,
 "nbformat_minor": 2
}
